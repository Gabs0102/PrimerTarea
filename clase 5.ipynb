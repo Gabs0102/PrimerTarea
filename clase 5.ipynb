{
 "cells": [
  {
   "cell_type": "code",
   "execution_count": 6,
   "metadata": {},
   "outputs": [],
   "source": [
    "import matplotlib.pyplot as plt\n",
    "%matplotlib inline\n",
    "import numpy as np"
   ]
  },
  {
   "cell_type": "markdown",
   "metadata": {},
   "source": [
    "se tiene igualdades\n",
    "$$50X_1 + 24x_2\\leq 2400$$\n",
    "$$30X_1 + 33x_2\\leq 2100$$"
   ]
  },
  {
   "cell_type": "markdown",
   "metadata": {},
   "source": [
    "se tienen las igualdades\n",
    "$$50X_1 + 24x_2 =2400$$\n",
    "$$30X_1 + 33x_2 = 2100$$"
   ]
  },
  {
   "cell_type": "markdown",
   "metadata": {},
   "source": [
    "el despeje queda entonces como \n",
    "$$x_2 = \\frac{2400 - 50x_1}/{24}$$\n",
    "$$x_2 = \\frac{2100 - 30x_1}/{33}$$"
   ]
  },
  {
   "cell_type": "code",
   "execution_count": 28,
   "metadata": {},
   "outputs": [
    {
     "data": {
      "image/png": "[encoded data removed]",
      "text/plain": [
       "<Figure size 432x288 with 1 Axes>"
      ]
     },
     "metadata": {},
     "output_type": "display_data"
    }
   ],
   "source": [
    "def x2_v1(x1):\n",
    "    return (2400 - 50*x1)/24 #maquina A\n",
    "def x2_v2(x1):\n",
    "    return (2100 - 30*x1)/33 #maquina B\n",
    "\n",
    "x1 = np.linspace(0, 100)\n",
    "\n",
    "plt.plot(x1, x2_v1(x1), 'magenta') #desigualdad 1\n",
    "plt.plot(x1, x2_v2(x1)) # desigualdad 2\n",
    "plt.plot([45, 45], [0, 25], 'k')\n",
    "plt.scatter([45, 45], [0, 25], s=200, color = 'red')\n",
    "\n",
    "plt.plot([43, 47], [5, 5], 'r')\n",
    "plt.scatter([43, 47], [5, 5], s=200, color = 'blue')\n",
    "\n",
    "plt.xlim(xmin = 44, xmax = 46)\n",
    "plt.ylim(ymin = 4, ymax = 8)\n",
    "plt.scatter([45, 45, 45.6], [6.25, 5, 5], color = 'red')\n",
    "plt.fill_between(np.array([45, 45.6]), x2_v1(np.array([45, 45.6])),\n",
    "                5*np.ones(2), alpha = .2, color = 'orange')\n",
    "plt.xlabel(r\"$x_1$\", fontsize = 18)\n",
    "plt.ylabel(r\"$x_2$\", fontsize = 18)\n",
    "plt.show()"
   ]
  },
  {
   "cell_type": "code",
   "execution_count": 30,
   "metadata": {},
   "outputs": [],
   "source": [
    "import scipy.optimize as opt"
   ]
  },
  {
   "cell_type": "code",
   "execution_count": 33,
   "metadata": {},
   "outputs": [
    {
     "name": "stdout",
     "output_type": "stream",
     "text": [
      "Optimization terminated successfully.\n",
      "         Current function value: -51.250000  \n",
      "         Iterations: 4\n"
     ]
    },
    {
     "data": {
      "text/plain": [
       "     fun: -51.25\n",
       " message: 'Optimization terminated successfully.'\n",
       "     nit: 4\n",
       "   slack: array([  0.  , 543.75,   0.  ,   1.25])\n",
       "  status: 0\n",
       " success: True\n",
       "       x: array([45.  ,  6.25])"
      ]
     },
     "execution_count": 33,
     "metadata": {},
     "output_type": "execute_result"
    }
   ],
   "source": [
    "c = np.array([-1, -1]) #min(-x1 -x2)\n",
    "A = np.array([[50, 24], [30, 33]])\n",
    "b = np.array([2400, 2100])\n",
    "x1_bound = (45, None)\n",
    "x2_bound = (5, None)\n",
    "res = opt.linprog(c, A_ub=A, b_ub=b, bounds=(x1_bound, x2_bound), options={'disp': True})\n",
    "res"
   ]
  },
  {
   "cell_type": "markdown",
   "metadata": {},
   "source": [
    "### Problema de Monica"
   ]
  },
  {
   "cell_type": "code",
   "execution_count": 5,
   "metadata": {},
   "outputs": [
    {
     "data": {
      "text/plain": [
       "     fun: -250.0\n",
       " message: 'Optimization terminated successfully.'\n",
       "     nit: 2\n",
       "   slack: array([0., 0.])\n",
       "  status: 0\n",
       " success: True\n",
       "       x: array([10.,  5.])"
      ]
     },
     "execution_count": 5,
     "metadata": {},
     "output_type": "execute_result"
    }
   ],
   "source": [
    "import matplotlib.pyplot as plt\n",
    "%matplotlib inline\n",
    "import numpy as np\n",
    "\n",
    "import scipy.optimize as opt\n",
    "\n",
    "c = np.array([-15, -20])\n",
    "A = np.array([[0.5, 1], [1, 1]])\n",
    "b = np.array([10, 15])\n",
    "x3_cota = (0, None)\n",
    "x4_cota = (0, None)\n",
    "\n",
    "res_monica = opt.linprog(c=c, A_ub=A, b_ub=b, bounds = (x3_cota,x4_cota))\n",
    "res_monica\n"
   ]
  },
  {
   "cell_type": "markdown",
   "metadata": {},
   "source": [
    "se tiene igualdades\n",
    "$$.5X_1 + 1x_2 = 10$$\n",
    "$$1X_1 + 1x_2 = 15$$"
   ]
  },
  {
   "cell_type": "markdown",
   "metadata": {},
   "source": [
    "el despeje queda entonces como \n",
    "$$x_2 = \\frac{10 - 1x_1}/{.5}$$\n",
    "$$x_2 = \\frac{15 - 1x_1}/{1}$$"
   ]
  },
  {
   "cell_type": "code",
   "execution_count": 10,
   "metadata": {},
   "outputs": [
    {
     "data": {
      "text/plain": [
       "<matplotlib.collections.PathCollection at 0x27c4954a198>"
      ]
     },
     "execution_count": 10,
     "metadata": {},
     "output_type": "execute_result"
    },
    {
     "data": {
      "image/png": "[encoded data removed]",
      "text/plain": [
       "<Figure size 432x288 with 1 Axes>"
      ]
     },
     "metadata": {},
     "output_type": "display_data"
    }
   ],
   "source": [
    "def x2_v1(x1):\n",
    "    return (10 - 1*x1)/.5 #maquina A\n",
    "def x2_v2(x1):\n",
    "    return (15- 1*x1)/1 #maquina B\n",
    "\n",
    "x1 = np.linspace(20, 60)\n",
    "\n",
    "plt.plot([45, 45], [0, 25], 'k')\n",
    "plt.scatter([45, 45], [0, 25], s=200, color = 'red')"
   ]
  },
  {
   "cell_type": "code",
   "execution_count": null,
   "metadata": {},
   "outputs": [],
   "source": []
  }
 ],
 "metadata": {
  "kernelspec": {
   "display_name": "Python 3",
   "language": "python",
   "name": "python3"
  },
  "language_info": {
   "codemirror_mode": {
    "name": "ipython",
    "version": 3
   },
   "file_extension": ".py",
   "mimetype": "text/x-python",
   "name": "python",
   "nbconvert_exporter": "python",
   "pygments_lexer": "ipython3",
   "version": "3.6.5"
  }
 },
 "nbformat": 4,
 "nbformat_minor": 2
}
